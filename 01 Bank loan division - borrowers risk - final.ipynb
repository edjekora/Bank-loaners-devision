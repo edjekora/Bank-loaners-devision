{
 "cells": [
  {
   "cell_type": "markdown",
   "metadata": {},
   "source": [
    "# Analyzing borrowers’ risk of defaulting\n",
    "\n",
    "Your project is to prepare a report for a bank’s loan division. You’ll need to find out if a customer’s marital status and number of children has an impact on whether they will default on a loan. The bank already has some data on customers’ credit worthiness.\n",
    "\n",
    "Your report will be considered when building a **credit scoring** of a potential customer. A ** credit scoring ** is used to evaluate the ability of a potential borrower to repay their loan."
   ]
  },
  {
   "cell_type": "code",
   "execution_count": 1,
   "metadata": {},
   "outputs": [],
   "source": [
    "# libraries cell\n",
    "import pandas as pd\n",
    "import nltk"
   ]
  },
  {
   "cell_type": "markdown",
   "metadata": {},
   "source": [
    "## Open the data file and have a look at the general information. "
   ]
  },
  {
   "cell_type": "code",
   "execution_count": 2,
   "metadata": {
    "scrolled": false
   },
   "outputs": [
    {
     "name": "stdout",
     "output_type": "stream",
     "text": [
      "<class 'pandas.core.frame.DataFrame'>\n",
      "RangeIndex: 21525 entries, 0 to 21524\n",
      "Data columns (total 12 columns):\n",
      " #   Column            Non-Null Count  Dtype  \n",
      "---  ------            --------------  -----  \n",
      " 0   children          21525 non-null  int64  \n",
      " 1   days_employed     19351 non-null  float64\n",
      " 2   dob_years         21525 non-null  int64  \n",
      " 3   education         21525 non-null  object \n",
      " 4   education_id      21525 non-null  int64  \n",
      " 5   family_status     21525 non-null  object \n",
      " 6   family_status_id  21525 non-null  int64  \n",
      " 7   gender            21525 non-null  object \n",
      " 8   income_type       21525 non-null  object \n",
      " 9   debt              21525 non-null  int64  \n",
      " 10  total_income      19351 non-null  float64\n",
      " 11  purpose           21525 non-null  object \n",
      "dtypes: float64(2), int64(5), object(5)\n",
      "memory usage: 2.0+ MB\n"
     ]
    },
    {
     "data": {
      "text/html": [
       "<div>\n",
       "<style scoped>\n",
       "    .dataframe tbody tr th:only-of-type {\n",
       "        vertical-align: middle;\n",
       "    }\n",
       "\n",
       "    .dataframe tbody tr th {\n",
       "        vertical-align: top;\n",
       "    }\n",
       "\n",
       "    .dataframe thead th {\n",
       "        text-align: right;\n",
       "    }\n",
       "</style>\n",
       "<table border=\"1\" class=\"dataframe\">\n",
       "  <thead>\n",
       "    <tr style=\"text-align: right;\">\n",
       "      <th></th>\n",
       "      <th>children</th>\n",
       "      <th>days_employed</th>\n",
       "      <th>dob_years</th>\n",
       "      <th>education</th>\n",
       "      <th>education_id</th>\n",
       "      <th>family_status</th>\n",
       "      <th>family_status_id</th>\n",
       "      <th>gender</th>\n",
       "      <th>income_type</th>\n",
       "      <th>debt</th>\n",
       "      <th>total_income</th>\n",
       "      <th>purpose</th>\n",
       "    </tr>\n",
       "  </thead>\n",
       "  <tbody>\n",
       "    <tr>\n",
       "      <th>0</th>\n",
       "      <td>1</td>\n",
       "      <td>-8437.673028</td>\n",
       "      <td>42</td>\n",
       "      <td>bachelor's degree</td>\n",
       "      <td>0</td>\n",
       "      <td>married</td>\n",
       "      <td>0</td>\n",
       "      <td>F</td>\n",
       "      <td>employee</td>\n",
       "      <td>0</td>\n",
       "      <td>40620.102</td>\n",
       "      <td>purchase of the house</td>\n",
       "    </tr>\n",
       "    <tr>\n",
       "      <th>1</th>\n",
       "      <td>1</td>\n",
       "      <td>-4024.803754</td>\n",
       "      <td>36</td>\n",
       "      <td>secondary education</td>\n",
       "      <td>1</td>\n",
       "      <td>married</td>\n",
       "      <td>0</td>\n",
       "      <td>F</td>\n",
       "      <td>employee</td>\n",
       "      <td>0</td>\n",
       "      <td>17932.802</td>\n",
       "      <td>car purchase</td>\n",
       "    </tr>\n",
       "    <tr>\n",
       "      <th>2</th>\n",
       "      <td>0</td>\n",
       "      <td>-5623.422610</td>\n",
       "      <td>33</td>\n",
       "      <td>Secondary Education</td>\n",
       "      <td>1</td>\n",
       "      <td>married</td>\n",
       "      <td>0</td>\n",
       "      <td>M</td>\n",
       "      <td>employee</td>\n",
       "      <td>0</td>\n",
       "      <td>23341.752</td>\n",
       "      <td>purchase of the house</td>\n",
       "    </tr>\n",
       "    <tr>\n",
       "      <th>3</th>\n",
       "      <td>3</td>\n",
       "      <td>-4124.747207</td>\n",
       "      <td>32</td>\n",
       "      <td>secondary education</td>\n",
       "      <td>1</td>\n",
       "      <td>married</td>\n",
       "      <td>0</td>\n",
       "      <td>M</td>\n",
       "      <td>employee</td>\n",
       "      <td>0</td>\n",
       "      <td>42820.568</td>\n",
       "      <td>supplementary education</td>\n",
       "    </tr>\n",
       "    <tr>\n",
       "      <th>4</th>\n",
       "      <td>0</td>\n",
       "      <td>340266.072047</td>\n",
       "      <td>53</td>\n",
       "      <td>secondary education</td>\n",
       "      <td>1</td>\n",
       "      <td>civil partnership</td>\n",
       "      <td>1</td>\n",
       "      <td>F</td>\n",
       "      <td>retiree</td>\n",
       "      <td>0</td>\n",
       "      <td>25378.572</td>\n",
       "      <td>to have a wedding</td>\n",
       "    </tr>\n",
       "  </tbody>\n",
       "</table>\n",
       "</div>"
      ],
      "text/plain": [
       "   children  days_employed  dob_years            education  education_id  \\\n",
       "0         1   -8437.673028         42    bachelor's degree             0   \n",
       "1         1   -4024.803754         36  secondary education             1   \n",
       "2         0   -5623.422610         33  Secondary Education             1   \n",
       "3         3   -4124.747207         32  secondary education             1   \n",
       "4         0  340266.072047         53  secondary education             1   \n",
       "\n",
       "       family_status  family_status_id gender income_type  debt  total_income  \\\n",
       "0            married                 0      F    employee     0     40620.102   \n",
       "1            married                 0      F    employee     0     17932.802   \n",
       "2            married                 0      M    employee     0     23341.752   \n",
       "3            married                 0      M    employee     0     42820.568   \n",
       "4  civil partnership                 1      F     retiree     0     25378.572   \n",
       "\n",
       "                   purpose  \n",
       "0    purchase of the house  \n",
       "1             car purchase  \n",
       "2    purchase of the house  \n",
       "3  supplementary education  \n",
       "4        to have a wedding  "
      ]
     },
     "execution_count": 2,
     "metadata": {},
     "output_type": "execute_result"
    }
   ],
   "source": [
    "try:\n",
    "    data = pd.read_csv('datasets\\credit_scoring_eng.csv') ## local PC path\n",
    "except:\n",
    "    data = pd.read_csv('/datasets/credit_scoring_eng.csv') ## jupyter hub path\n",
    "    \n",
    "data.info()\n",
    "\n",
    "data.head()"
   ]
  },
  {
   "cell_type": "markdown",
   "metadata": {},
   "source": [
    "## Conclusion\n",
    "\n",
    "1. Data types: floats have to be converted to ints, losing fractions won't affect quality of data, but the data would be cleaner and processed faster.\n",
    "\n",
    "2. Amount of values seems to match in almost all columns. There are missing values only in \"days_employed\" and \"total_income\". Because there are similar amount of values in both of those columns, I can assume that they are also in matching rows: people don't work, so they don't have an income. I would check this assumption later.\n",
    "\n",
    "3. Some of \"days employed\" appear as negative. The value in 4-th row also seems problematic - 340266 days convert to more than 900 years. It seems I would have not only to convert this column, but also to check all of the values. If there are too many strange values and I won't find any reasonable explanation, I won't be able to use this data. But there also seems to be no need to use it anyway, it has nothing to do with the inital task.\n",
    "\n",
    "4. I see capitalized and lowercase values with the same text. They will be dealt with while looking for duplicates.\n",
    "\n",
    "5. Loan purposes appear as regular uncategorized text, I will have to process it to extract the keywords, like \"purchase\", \"house\", \"car\", \"wedding\" and so on."
   ]
  },
  {
   "cell_type": "markdown",
   "metadata": {},
   "source": [
    "## Data preprocessing"
   ]
  },
  {
   "cell_type": "markdown",
   "metadata": {},
   "source": [
    "### Processing missing values"
   ]
  },
  {
   "cell_type": "markdown",
   "metadata": {},
   "source": [
    "**Notes**\n",
    "\n",
    "Right now I don't know why there are missing values. I am going to check if 'days_employed' and 'total_income' missing values are in the same rows to see if it has something to do with unemployment.\n",
    "\n",
    "If the values in 'total income' column are missing in exactly the same row as values in 'days_employed', the bool for it will be True. If they are not, the bool will be False."
   ]
  },
  {
   "cell_type": "code",
   "execution_count": 3,
   "metadata": {},
   "outputs": [
    {
     "data": {
      "text/plain": [
       "True    2174\n",
       "Name: total_income, dtype: int64"
      ]
     },
     "execution_count": 3,
     "metadata": {},
     "output_type": "execute_result"
    }
   ],
   "source": [
    "# there are 2174 rows wih missing values in each column\n",
    "data[data['days_employed'].isnull()]['total_income'].isnull().value_counts()"
   ]
  },
  {
   "cell_type": "markdown",
   "metadata": {},
   "source": [
    "**Notes**:\n",
    "\n",
    "So, all the missing values are in same rows, as I assumed.\n",
    "\n",
    "Now I am going to check what is the employment status in all of these rows and either confirm or disprove my theory."
   ]
  },
  {
   "cell_type": "code",
   "execution_count": 4,
   "metadata": {},
   "outputs": [
    {
     "data": {
      "text/plain": [
       "employee         1105\n",
       "business          508\n",
       "retiree           413\n",
       "civil servant     147\n",
       "entrepreneur        1\n",
       "Name: income_type, dtype: int64"
      ]
     },
     "execution_count": 4,
     "metadata": {},
     "output_type": "execute_result"
    }
   ],
   "source": [
    "data[data['total_income'].isnull()]['income_type'].value_counts()"
   ]
  },
  {
   "cell_type": "markdown",
   "metadata": {},
   "source": [
    "**Notes**:\n",
    "\n",
    "They are not unemployed, so I can't just fill missing values with zeroes.\n",
    "\n",
    "I am going to count global employment statuses and compare them to the count of employment of those whose income is unknow: "
   ]
  },
  {
   "cell_type": "code",
   "execution_count": 5,
   "metadata": {},
   "outputs": [
    {
     "name": "stdout",
     "output_type": "stream",
     "text": [
      "employee                       11119\n",
      "business                        5085\n",
      "retiree                         3856\n",
      "civil servant                   1459\n",
      "unemployed                         2\n",
      "entrepreneur                       2\n",
      "paternity / maternity leave        1\n",
      "student                            1\n",
      "Name: income_type, dtype: int64\n",
      "\n",
      "business                       0.099902\n",
      "civil servant                  0.100754\n",
      "employee                       0.099379\n",
      "entrepreneur                   0.500000\n",
      "paternity / maternity leave         NaN\n",
      "retiree                        0.107106\n",
      "student                             NaN\n",
      "unemployed                          NaN\n",
      "Name: income_type, dtype: float64\n"
     ]
    }
   ],
   "source": [
    "print(data['income_type'].value_counts())\n",
    "print()\n",
    "print(data[data['total_income'].isnull()]['income_type'].value_counts() / data['income_type'].value_counts())"
   ]
  },
  {
   "cell_type": "markdown",
   "metadata": {},
   "source": [
    "**Notes**:\n",
    "\n",
    "I still don't see any explanation for missing values. It can be either human or machine error, no way to know.\n",
    "\n",
    "The ratio is roughly the same in all major categories, except for 'entrepreneur' which appears only in two rows. \n",
    "\n",
    "Also I don't see any reason for the 'entrepreneur' to appear as separate category when I have 'business' category. \n",
    "So I am going to replace them with 'business'.\n",
    "\n",
    "Then I will fill missing incomes basing on mean value by employment status, filling blanks this way should not affect overall data and future conclusions in any meaningful way."
   ]
  },
  {
   "cell_type": "code",
   "execution_count": 6,
   "metadata": {},
   "outputs": [],
   "source": [
    "# include 'entrepreneur' into 'business' category\n",
    "data['income_type'].replace({'entrepreneur':'business'}, inplace = True) \n",
    "\n",
    "# fill 'income' blanks with averages by employment category\n",
    "data['total_income'] = data['total_income'].fillna(data.groupby('income_type')['total_income'].transform('median'))"
   ]
  },
  {
   "cell_type": "markdown",
   "metadata": {},
   "source": [
    "**Notes**:\n",
    "\n",
    "Now I want to have a closer look at 'days_employed' column and to see how many corrupted values it has. "
   ]
  },
  {
   "cell_type": "code",
   "execution_count": 7,
   "metadata": {},
   "outputs": [
    {
     "name": "stdout",
     "output_type": "stream",
     "text": [
      "Amount of negative values in column: 15906\n",
      "Amount of high values in column: 3445\n"
     ]
    }
   ],
   "source": [
    "days_employed_negative_counter = 0 # this will help me to count negative values\n",
    "days_employed_high_values_counter = 0 # and this will help me to count values which are too high for average human lifespan\n",
    "\n",
    "for value in data['days_employed']: # loop to help me to comb trough data and to count irrational values\n",
    "    if value < 0:\n",
    "        days_employed_negative_counter += 1\n",
    "    if value > (365*50): # I roughly estimated 50 years as maximum employment period\n",
    "        days_employed_high_values_counter += 1\n",
    "        \n",
    "print('Amount of negative values in column:', days_employed_negative_counter)\n",
    "print('Amount of high values in column:', days_employed_high_values_counter)"
   ]
  },
  {
   "cell_type": "markdown",
   "metadata": {},
   "source": [
    "**Notes**:\n",
    "\n",
    "Too many. It is obvious that I can't use data in this column, so I won't fill empty cells there.\n",
    "\n",
    "I will drop it for good, and also I will extract only the relevant to the research columns to a separate dataframe, and have a look on it."
   ]
  },
  {
   "cell_type": "code",
   "execution_count": 8,
   "metadata": {},
   "outputs": [
    {
     "name": "stdout",
     "output_type": "stream",
     "text": [
      "<class 'pandas.core.frame.DataFrame'>\n",
      "RangeIndex: 21525 entries, 0 to 21524\n",
      "Data columns (total 8 columns):\n",
      " #   Column         Non-Null Count  Dtype  \n",
      "---  ------         --------------  -----  \n",
      " 0   children       21525 non-null  int64  \n",
      " 1   dob_years      21525 non-null  int64  \n",
      " 2   education      21525 non-null  object \n",
      " 3   family_status  21525 non-null  object \n",
      " 4   income_type    21525 non-null  object \n",
      " 5   debt           21525 non-null  int64  \n",
      " 6   total_income   21525 non-null  float64\n",
      " 7   purpose        21525 non-null  object \n",
      "dtypes: float64(1), int64(3), object(4)\n",
      "memory usage: 1.3+ MB\n"
     ]
    },
    {
     "data": {
      "text/html": [
       "<div>\n",
       "<style scoped>\n",
       "    .dataframe tbody tr th:only-of-type {\n",
       "        vertical-align: middle;\n",
       "    }\n",
       "\n",
       "    .dataframe tbody tr th {\n",
       "        vertical-align: top;\n",
       "    }\n",
       "\n",
       "    .dataframe thead th {\n",
       "        text-align: right;\n",
       "    }\n",
       "</style>\n",
       "<table border=\"1\" class=\"dataframe\">\n",
       "  <thead>\n",
       "    <tr style=\"text-align: right;\">\n",
       "      <th></th>\n",
       "      <th>children</th>\n",
       "      <th>dob_years</th>\n",
       "      <th>education</th>\n",
       "      <th>family_status</th>\n",
       "      <th>income_type</th>\n",
       "      <th>debt</th>\n",
       "      <th>total_income</th>\n",
       "      <th>purpose</th>\n",
       "    </tr>\n",
       "  </thead>\n",
       "  <tbody>\n",
       "    <tr>\n",
       "      <th>0</th>\n",
       "      <td>1</td>\n",
       "      <td>42</td>\n",
       "      <td>bachelor's degree</td>\n",
       "      <td>married</td>\n",
       "      <td>employee</td>\n",
       "      <td>0</td>\n",
       "      <td>40620.102</td>\n",
       "      <td>purchase of the house</td>\n",
       "    </tr>\n",
       "    <tr>\n",
       "      <th>1</th>\n",
       "      <td>1</td>\n",
       "      <td>36</td>\n",
       "      <td>secondary education</td>\n",
       "      <td>married</td>\n",
       "      <td>employee</td>\n",
       "      <td>0</td>\n",
       "      <td>17932.802</td>\n",
       "      <td>car purchase</td>\n",
       "    </tr>\n",
       "    <tr>\n",
       "      <th>2</th>\n",
       "      <td>0</td>\n",
       "      <td>33</td>\n",
       "      <td>Secondary Education</td>\n",
       "      <td>married</td>\n",
       "      <td>employee</td>\n",
       "      <td>0</td>\n",
       "      <td>23341.752</td>\n",
       "      <td>purchase of the house</td>\n",
       "    </tr>\n",
       "    <tr>\n",
       "      <th>3</th>\n",
       "      <td>3</td>\n",
       "      <td>32</td>\n",
       "      <td>secondary education</td>\n",
       "      <td>married</td>\n",
       "      <td>employee</td>\n",
       "      <td>0</td>\n",
       "      <td>42820.568</td>\n",
       "      <td>supplementary education</td>\n",
       "    </tr>\n",
       "    <tr>\n",
       "      <th>4</th>\n",
       "      <td>0</td>\n",
       "      <td>53</td>\n",
       "      <td>secondary education</td>\n",
       "      <td>civil partnership</td>\n",
       "      <td>retiree</td>\n",
       "      <td>0</td>\n",
       "      <td>25378.572</td>\n",
       "      <td>to have a wedding</td>\n",
       "    </tr>\n",
       "  </tbody>\n",
       "</table>\n",
       "</div>"
      ],
      "text/plain": [
       "   children  dob_years            education      family_status income_type  \\\n",
       "0         1         42    bachelor's degree            married    employee   \n",
       "1         1         36  secondary education            married    employee   \n",
       "2         0         33  Secondary Education            married    employee   \n",
       "3         3         32  secondary education            married    employee   \n",
       "4         0         53  secondary education  civil partnership     retiree   \n",
       "\n",
       "   debt  total_income                  purpose  \n",
       "0     0     40620.102    purchase of the house  \n",
       "1     0     17932.802             car purchase  \n",
       "2     0     23341.752    purchase of the house  \n",
       "3     0     42820.568  supplementary education  \n",
       "4     0     25378.572        to have a wedding  "
      ]
     },
     "execution_count": 8,
     "metadata": {},
     "output_type": "execute_result"
    }
   ],
   "source": [
    "# create new dataframe\n",
    "data_extracted = data[[\n",
    "    'children', 'dob_years', 'education', 'family_status', 'income_type', 'debt', 'total_income', 'purpose'\n",
    "]].copy()\n",
    "\n",
    "data_extracted.info()\n",
    "data_extracted.head()"
   ]
  },
  {
   "cell_type": "markdown",
   "metadata": {},
   "source": [
    "### Conclusion"
   ]
  },
  {
   "cell_type": "markdown",
   "metadata": {},
   "source": [
    "Now I don't have missing values and my table is tidier and easier to look at. But I have a float column and two int64 columns, I will have to deal with them in the next step."
   ]
  },
  {
   "cell_type": "markdown",
   "metadata": {},
   "source": [
    "### Data type replacement"
   ]
  },
  {
   "cell_type": "code",
   "execution_count": 9,
   "metadata": {},
   "outputs": [
    {
     "name": "stdout",
     "output_type": "stream",
     "text": [
      "<class 'pandas.core.frame.DataFrame'>\n",
      "RangeIndex: 21525 entries, 0 to 21524\n",
      "Data columns (total 8 columns):\n",
      " #   Column         Non-Null Count  Dtype \n",
      "---  ------         --------------  ----- \n",
      " 0   children       21525 non-null  int32 \n",
      " 1   dob_years      21525 non-null  int32 \n",
      " 2   education      21525 non-null  object\n",
      " 3   family_status  21525 non-null  object\n",
      " 4   income_type    21525 non-null  object\n",
      " 5   debt           21525 non-null  int32 \n",
      " 6   total_income   21525 non-null  int32 \n",
      " 7   purpose        21525 non-null  object\n",
      "dtypes: int32(4), object(4)\n",
      "memory usage: 1009.1+ KB\n"
     ]
    }
   ],
   "source": [
    "# making a list of names of the columns with numeric values\n",
    "numeric_column_names = ['children','dob_years','debt','total_income']\n",
    "\n",
    "# converting those columns to int32 (int16 seems to be to small for some of the values)\n",
    "data_extracted[numeric_column_names] = data_extracted[numeric_column_names].astype('int32')\n",
    "\n",
    "data_extracted.info()"
   ]
  },
  {
   "cell_type": "markdown",
   "metadata": {},
   "source": [
    "### Conclusion"
   ]
  },
  {
   "cell_type": "markdown",
   "metadata": {},
   "source": [
    "Now all numerical columns have the same type."
   ]
  },
  {
   "cell_type": "markdown",
   "metadata": {},
   "source": [
    "### Processing duplicates"
   ]
  },
  {
   "cell_type": "markdown",
   "metadata": {},
   "source": [
    "**Notes**:\n",
    "\n",
    "First of all, I am going to remove capital letters in all categories. Then I will take a closer look at all categorical values, except 'purpose' ('purpose' contains written text and I will leave it for later)."
   ]
  },
  {
   "cell_type": "code",
   "execution_count": 10,
   "metadata": {},
   "outputs": [
    {
     "name": "stdout",
     "output_type": "stream",
     "text": [
      "Education\n",
      "--------------------\n",
      "secondary education    15233\n",
      "bachelor's degree       5260\n",
      "some college             744\n",
      "primary education        282\n",
      "graduate degree            6\n",
      "Name: education, dtype: int64\n",
      "\n",
      "Family status\n",
      "--------------------\n",
      "married              12380\n",
      "civil partnership     4177\n",
      "unmarried             2813\n",
      "divorced              1195\n",
      "widow / widower        960\n",
      "Name: family_status, dtype: int64\n",
      "\n",
      "Income_type\n",
      "--------------------\n",
      "employee                       11119\n",
      "business                        5087\n",
      "retiree                         3856\n",
      "civil servant                   1459\n",
      "unemployed                         2\n",
      "paternity / maternity leave        1\n",
      "student                            1\n",
      "Name: income_type, dtype: int64\n",
      "\n"
     ]
    }
   ],
   "source": [
    "#removing capital letters:\n",
    "data_extracted['education'] = data_extracted['education'].str.lower()\n",
    "data_extracted['family_status'] = data_extracted['family_status'].str.lower()\n",
    "data_extracted['income_type'] = data_extracted['income_type'].str.lower()\n",
    "data_extracted['purpose'] = data_extracted['purpose'].str.lower()\n",
    "\n",
    "#looking at values count to check if manual replacement of duplicates is needed:\n",
    "\n",
    "print('Education')\n",
    "print('--------------------')\n",
    "print(data_extracted['education'].value_counts())\n",
    "print()\n",
    "\n",
    "print('Family status')\n",
    "print('--------------------')\n",
    "print(data_extracted['family_status'].value_counts())\n",
    "print()\n",
    "\n",
    "print('Income_type')\n",
    "print('--------------------')\n",
    "print(data_extracted['income_type'].value_counts())\n",
    "print()"
   ]
  },
  {
   "cell_type": "markdown",
   "metadata": {},
   "source": [
    "**Notes**:\n",
    "\n",
    "No manual replacement of duplicates is needed in those three categories.\n",
    "Now I will work on duplicates in 'purpose' column. Because it was filled with free written text, I will have to stem it's values first (not lemmatize, because I need common roots for any parts of speech, nouns, verbs and all). Then I will take a look at the list of processed values."
   ]
  },
  {
   "cell_type": "code",
   "execution_count": 11,
   "metadata": {},
   "outputs": [
    {
     "data": {
      "text/plain": [
       "array(['purchas of the hous', 'car purchas', 'supplementari educ',\n",
       "       'to have a wed', 'hous transact', 'educ', 'have a wed',\n",
       "       'purchas of the hous for my famili', 'buy real estat',\n",
       "       'buy commerci real estat', 'buy residenti real estat',\n",
       "       'construct of own properti', 'properti', 'build a properti',\n",
       "       'buy a second-hand car', 'buy my own car',\n",
       "       'transact with commerci real estat', 'build a real estat', 'hous',\n",
       "       'transact with my real estat', 'car', 'to becom educ',\n",
       "       'second-hand car purchas', 'get an educ', 'wed ceremoni',\n",
       "       'to get a supplementari educ', 'purchas of my own hous',\n",
       "       'real estat transact', 'get higher educ', 'to own a car',\n",
       "       'purchas of a car', 'profil educ', 'univers educ',\n",
       "       'buy properti for rent out', 'to buy a car', 'hous renov',\n",
       "       'go to univers'], dtype=object)"
      ]
     },
     "execution_count": 11,
     "metadata": {},
     "output_type": "execute_result"
    }
   ],
   "source": [
    "#import natural language toolkit I need to stem all the words\n",
    "from nltk.stem import SnowballStemmer\n",
    "\n",
    "english_stemmer = SnowballStemmer('english')\n",
    "\n",
    "# function for stemming values:\n",
    "def stem_text(value):\n",
    "    tokenized = nltk.word_tokenize(value)\n",
    "    stemmed = ' '.join([english_stemmer.stem(word) for word in tokenized])\n",
    "    return stemmed\n",
    "\n",
    "# adding a column with stemmed values\n",
    "stemmed_values = data_extracted['purpose'].copy().apply(stem_text)\n",
    "\n",
    "# displaying list of stemmed values:\n",
    "stemmed_values.unique()"
   ]
  },
  {
   "cell_type": "markdown",
   "metadata": {},
   "source": [
    "**Notes**:\n",
    "\n",
    "Looks like I have a lot of values, and many of them still return on themselves. So I plan to make a function, which will merge all the similar values into unified categories, so I will have list of nice and clear purposes without duplicates.\n",
    "\n",
    "Merged purpose values as I see them:\n",
    "* Real estate - here I will include everything with 'hous', 'properti' and 'real estat'. There could be also many subcategories here, but, if it will be needed, I can further categorize it later.\n",
    "* Vehicle - everything related to 'car'\n",
    "* Wedding - everything about 'wed'\n",
    "* Education - everything with 'educ' and 'univers'"
   ]
  },
  {
   "cell_type": "code",
   "execution_count": 12,
   "metadata": {},
   "outputs": [
    {
     "data": {
      "text/plain": [
       "Real estate    10840\n",
       "Vehicle         4315\n",
       "Education       4022\n",
       "Wedding         2348\n",
       "Name: purpose, dtype: int64"
      ]
     },
     "execution_count": 12,
     "metadata": {},
     "output_type": "execute_result"
    }
   ],
   "source": [
    "# write a function as described above:\n",
    "def merge_purposes(value):\n",
    "    result = 'unknown'\n",
    "    words = value.split(' ')\n",
    "    for word in words:\n",
    "        stemmed_word = english_stemmer.stem(word)\n",
    "        if stemmed_word == 'hous' or  stemmed_word == 'properti' or stemmed_word == 'estat':\n",
    "            result = 'Real estate'\n",
    "            break\n",
    "            break  \n",
    "        elif stemmed_word == 'car':\n",
    "            result = 'Vehicle'\n",
    "            break\n",
    "            break\n",
    "        elif stemmed_word == 'wed':\n",
    "            result = 'Wedding'\n",
    "            break\n",
    "            break \n",
    "        elif stemmed_word == 'educ' or  stemmed_word == 'univers':\n",
    "            result = 'Education'\n",
    "            break\n",
    "            break\n",
    "        else:\n",
    "            result = value\n",
    "    return result\n",
    "\n",
    "\n",
    "# merge values using the function\n",
    "data_extracted['purpose'] = data_extracted['purpose'].apply(merge_purposes)\n",
    "\n",
    "# look at unique values after merging to see if I missed one.\n",
    "data_extracted['purpose'].value_counts()"
   ]
  },
  {
   "cell_type": "markdown",
   "metadata": {},
   "source": [
    "Now I don't have duplicate values in all of the categorical value columns, so I can proceed to dropping duplicates."
   ]
  },
  {
   "cell_type": "code",
   "execution_count": 13,
   "metadata": {},
   "outputs": [
    {
     "data": {
      "text/plain": [
       "576"
      ]
     },
     "execution_count": 13,
     "metadata": {},
     "output_type": "execute_result"
    }
   ],
   "source": [
    "# checking for number of duplicated rows\n",
    "data_extracted.duplicated().sum()"
   ]
  },
  {
   "cell_type": "code",
   "execution_count": 14,
   "metadata": {},
   "outputs": [
    {
     "name": "stdout",
     "output_type": "stream",
     "text": [
      "<class 'pandas.core.frame.DataFrame'>\n",
      "Int64Index: 20949 entries, 0 to 21524\n",
      "Data columns (total 8 columns):\n",
      " #   Column         Non-Null Count  Dtype \n",
      "---  ------         --------------  ----- \n",
      " 0   children       20949 non-null  int32 \n",
      " 1   dob_years      20949 non-null  int32 \n",
      " 2   education      20949 non-null  object\n",
      " 3   family_status  20949 non-null  object\n",
      " 4   income_type    20949 non-null  object\n",
      " 5   debt           20949 non-null  int32 \n",
      " 6   total_income   20949 non-null  int32 \n",
      " 7   purpose        20949 non-null  object\n",
      "dtypes: int32(4), object(4)\n",
      "memory usage: 1.1+ MB\n"
     ]
    }
   ],
   "source": [
    "# dropping duplicated rows. I did not reset indices in case I will need to refer to some row in the initial dataframe 'data'\n",
    "data_extracted = data_extracted.drop_duplicates() \n",
    "\n",
    "data_extracted.info()"
   ]
  },
  {
   "cell_type": "markdown",
   "metadata": {},
   "source": [
    "### Conclusion"
   ]
  },
  {
   "cell_type": "markdown",
   "metadata": {},
   "source": [
    "I removed duplicated string values in all columns. \n",
    "\n",
    "In income_type, family_status and education I needed only to convert text to lowercase. \n",
    "\n",
    "In 'purpose' I merged values into 4 large categories. To prevent mistakes which could distort my data, I used stemming to find keywords for each of the categories, and sifted through the column, stemming every word and comparing it to my keywords. As a result, every value in 'purpose' was successfully sorted into one of those 4 categories.\n",
    "\n",
    "As a result of those steps, I was able to find 577 duplicated rows. There could be more than few reasons why those rows was duplicated, for example, same people could ask for loan twice, from two different branches of the same bank or it could be bank clerk's error of some kind.\n",
    "\n",
    "Finally, I applied remove_duplicates to the dataframe, but didn't reset indices in case there will emerge a need to refer to values from original unprocessed dataframe 'data'."
   ]
  },
  {
   "cell_type": "markdown",
   "metadata": {},
   "source": [
    "### Categorizing Data"
   ]
  },
  {
   "cell_type": "markdown",
   "metadata": {},
   "source": [
    "To answer the question, I need to compare 'debt' to 'children', 'family_status', 'total_income' and 'purpose' columns via pivot tables. Therefore, I need to categorize those columns first.\n",
    "\n",
    "In the previous steps of the project I already have seen that 'family_status' column already looks OK, it already splits into 5 nice categories. Also while looking for duplicates, I sorted 'purpose' category. So only the three numerical categories need to be adressed to."
   ]
  },
  {
   "cell_type": "code",
   "execution_count": 15,
   "metadata": {},
   "outputs": [
    {
     "name": "stdout",
     "output_type": "stream",
     "text": [
      "Children column\n",
      "--------------------\n",
      " 0     13707\n",
      " 1      4719\n",
      " 2      2023\n",
      " 3       328\n",
      " 20       76\n",
      "-1        47\n",
      " 4        40\n",
      " 5         9\n",
      "Name: children, dtype: int64\n",
      "\n",
      "-1 cells ratio:\n",
      "--------------------\n",
      "Cells with -1 value out of total cells: 0.2%\n",
      "Cells with -1 value out of cells with value 0: 0.3%\n"
     ]
    },
    {
     "data": {
      "text/html": [
       "<div>\n",
       "<style scoped>\n",
       "    .dataframe tbody tr th:only-of-type {\n",
       "        vertical-align: middle;\n",
       "    }\n",
       "\n",
       "    .dataframe tbody tr th {\n",
       "        vertical-align: top;\n",
       "    }\n",
       "\n",
       "    .dataframe thead th {\n",
       "        text-align: right;\n",
       "    }\n",
       "</style>\n",
       "<table border=\"1\" class=\"dataframe\">\n",
       "  <thead>\n",
       "    <tr style=\"text-align: right;\">\n",
       "      <th></th>\n",
       "      <th>children</th>\n",
       "      <th>dob_years</th>\n",
       "      <th>education</th>\n",
       "      <th>family_status</th>\n",
       "      <th>income_type</th>\n",
       "      <th>debt</th>\n",
       "      <th>total_income</th>\n",
       "      <th>purpose</th>\n",
       "    </tr>\n",
       "  </thead>\n",
       "  <tbody>\n",
       "    <tr>\n",
       "      <th>291</th>\n",
       "      <td>-1</td>\n",
       "      <td>46</td>\n",
       "      <td>secondary education</td>\n",
       "      <td>civil partnership</td>\n",
       "      <td>employee</td>\n",
       "      <td>0</td>\n",
       "      <td>16450</td>\n",
       "      <td>Education</td>\n",
       "    </tr>\n",
       "    <tr>\n",
       "      <th>705</th>\n",
       "      <td>-1</td>\n",
       "      <td>50</td>\n",
       "      <td>secondary education</td>\n",
       "      <td>married</td>\n",
       "      <td>civil servant</td>\n",
       "      <td>0</td>\n",
       "      <td>22061</td>\n",
       "      <td>Vehicle</td>\n",
       "    </tr>\n",
       "    <tr>\n",
       "      <th>742</th>\n",
       "      <td>-1</td>\n",
       "      <td>57</td>\n",
       "      <td>secondary education</td>\n",
       "      <td>married</td>\n",
       "      <td>employee</td>\n",
       "      <td>0</td>\n",
       "      <td>10282</td>\n",
       "      <td>Education</td>\n",
       "    </tr>\n",
       "    <tr>\n",
       "      <th>800</th>\n",
       "      <td>-1</td>\n",
       "      <td>54</td>\n",
       "      <td>secondary education</td>\n",
       "      <td>unmarried</td>\n",
       "      <td>retiree</td>\n",
       "      <td>0</td>\n",
       "      <td>13806</td>\n",
       "      <td>Education</td>\n",
       "    </tr>\n",
       "    <tr>\n",
       "      <th>941</th>\n",
       "      <td>-1</td>\n",
       "      <td>57</td>\n",
       "      <td>secondary education</td>\n",
       "      <td>married</td>\n",
       "      <td>retiree</td>\n",
       "      <td>0</td>\n",
       "      <td>18962</td>\n",
       "      <td>Vehicle</td>\n",
       "    </tr>\n",
       "  </tbody>\n",
       "</table>\n",
       "</div>"
      ],
      "text/plain": [
       "     children  dob_years            education      family_status  \\\n",
       "291        -1         46  secondary education  civil partnership   \n",
       "705        -1         50  secondary education            married   \n",
       "742        -1         57  secondary education            married   \n",
       "800        -1         54  secondary education          unmarried   \n",
       "941        -1         57  secondary education            married   \n",
       "\n",
       "       income_type  debt  total_income    purpose  \n",
       "291       employee     0         16450  Education  \n",
       "705  civil servant     0         22061    Vehicle  \n",
       "742       employee     0         10282  Education  \n",
       "800        retiree     0         13806  Education  \n",
       "941        retiree     0         18962    Vehicle  "
      ]
     },
     "execution_count": 15,
     "metadata": {},
     "output_type": "execute_result"
    }
   ],
   "source": [
    "# looking at children column\n",
    "print('Children column')\n",
    "print('--------------------')\n",
    "print(data_extracted['children'].value_counts())\n",
    "\n",
    "# check how many '-1' values out of total and out of '0' do I have.\n",
    "# it will help me to know if I can to delete these rows or merge '-1' value with '0' without seriously affecting overall data.\n",
    "print()\n",
    "print('-1 cells ratio:')\n",
    "print('--------------------')\n",
    "print('Cells with -1 value out of total cells: {:.1%}'.format(\n",
    "    len(data_extracted[data_extracted['children'] == -1]) / len(data_extracted['children'])))\n",
    "print('Cells with -1 value out of cells with value 0: {:.1%}'.format(\n",
    "    len(data_extracted[data_extracted['children'] == -1]) / len(data_extracted[data_extracted['children'] == 0])))\n",
    "\n",
    "\n",
    "# total amount of '-1' values seems to be around 0.2%, which is OK. I can safely drop those rows, but still they may \n",
    "# have useful info in other columns. I am going to take a look:\n",
    "\n",
    "data_extracted[data_extracted['children'] == -1].head()"
   ]
  },
  {
   "cell_type": "markdown",
   "metadata": {},
   "source": [
    "**Notes**:\n",
    "\n",
    "Now I am going to look at ratio of those rows with 20 children.\n",
    "I assume it could be inner designation value of some kind, most probably because those families have many children and clerk didn't know how many. Also it could be a typo with extra zero, but I don't think so because:\n",
    "\n",
    "* 76 is a lot of values for ocassional typo of exactly the same kind.\n",
    "* I don't see any additional typos like '10' or '30'.\n",
    "\n",
    "So I will check ratios of those '20' values and compare them to ratios of '0', '2' and children overall to see where it can fit without distorting research results in any significant way.\n",
    "\n",
    "By the way, for this reasons exactly I also didn't consider '-1' to be a typo, I believe it must be some inner designation with unknown meaning. Maybe it was about families planning children or something like that. If this was real assignment of real client, I would ask about those meanings, but here I don't have such an option. "
   ]
  },
  {
   "cell_type": "code",
   "execution_count": 18,
   "metadata": {},
   "outputs": [
    {
     "name": "stdout",
     "output_type": "stream",
     "text": [
      "20 cells ratio:\n",
      "--------------------\n",
      "Cells with value \"20\" out of total cells: 0.4%\n",
      "Cells with value \"20\" out of cells with value \"2\": 3.8%\n",
      "Cells with value \"20\" out of cells with any number of children: 1.1%\n"
     ]
    },
    {
     "data": {
      "text/html": [
       "<div>\n",
       "<style scoped>\n",
       "    .dataframe tbody tr th:only-of-type {\n",
       "        vertical-align: middle;\n",
       "    }\n",
       "\n",
       "    .dataframe tbody tr th {\n",
       "        vertical-align: top;\n",
       "    }\n",
       "\n",
       "    .dataframe thead th {\n",
       "        text-align: right;\n",
       "    }\n",
       "</style>\n",
       "<table border=\"1\" class=\"dataframe\">\n",
       "  <thead>\n",
       "    <tr style=\"text-align: right;\">\n",
       "      <th></th>\n",
       "      <th>children</th>\n",
       "      <th>dob_years</th>\n",
       "      <th>education</th>\n",
       "      <th>family_status</th>\n",
       "      <th>income_type</th>\n",
       "      <th>debt</th>\n",
       "      <th>total_income</th>\n",
       "      <th>purpose</th>\n",
       "    </tr>\n",
       "  </thead>\n",
       "  <tbody>\n",
       "    <tr>\n",
       "      <th>606</th>\n",
       "      <td>20</td>\n",
       "      <td>21</td>\n",
       "      <td>secondary education</td>\n",
       "      <td>married</td>\n",
       "      <td>business</td>\n",
       "      <td>0</td>\n",
       "      <td>23253</td>\n",
       "      <td>Real estate</td>\n",
       "    </tr>\n",
       "    <tr>\n",
       "      <th>720</th>\n",
       "      <td>20</td>\n",
       "      <td>44</td>\n",
       "      <td>secondary education</td>\n",
       "      <td>married</td>\n",
       "      <td>business</td>\n",
       "      <td>0</td>\n",
       "      <td>18079</td>\n",
       "      <td>Real estate</td>\n",
       "    </tr>\n",
       "    <tr>\n",
       "      <th>1074</th>\n",
       "      <td>20</td>\n",
       "      <td>56</td>\n",
       "      <td>secondary education</td>\n",
       "      <td>married</td>\n",
       "      <td>employee</td>\n",
       "      <td>1</td>\n",
       "      <td>36722</td>\n",
       "      <td>Education</td>\n",
       "    </tr>\n",
       "    <tr>\n",
       "      <th>2510</th>\n",
       "      <td>20</td>\n",
       "      <td>59</td>\n",
       "      <td>bachelor's degree</td>\n",
       "      <td>widow / widower</td>\n",
       "      <td>employee</td>\n",
       "      <td>0</td>\n",
       "      <td>42315</td>\n",
       "      <td>Real estate</td>\n",
       "    </tr>\n",
       "    <tr>\n",
       "      <th>2941</th>\n",
       "      <td>20</td>\n",
       "      <td>0</td>\n",
       "      <td>secondary education</td>\n",
       "      <td>married</td>\n",
       "      <td>employee</td>\n",
       "      <td>0</td>\n",
       "      <td>31958</td>\n",
       "      <td>Vehicle</td>\n",
       "    </tr>\n",
       "  </tbody>\n",
       "</table>\n",
       "</div>"
      ],
      "text/plain": [
       "      children  dob_years            education    family_status income_type  \\\n",
       "606         20         21  secondary education          married    business   \n",
       "720         20         44  secondary education          married    business   \n",
       "1074        20         56  secondary education          married    employee   \n",
       "2510        20         59    bachelor's degree  widow / widower    employee   \n",
       "2941        20          0  secondary education          married    employee   \n",
       "\n",
       "      debt  total_income      purpose  \n",
       "606      0         23253  Real estate  \n",
       "720      0         18079  Real estate  \n",
       "1074     1         36722    Education  \n",
       "2510     0         42315  Real estate  \n",
       "2941     0         31958      Vehicle  "
      ]
     },
     "execution_count": 18,
     "metadata": {},
     "output_type": "execute_result"
    }
   ],
   "source": [
    "print('20 cells ratio:')\n",
    "print('--------------------')\n",
    "print('Cells with value \"20\" out of total cells: {:.1%}'.format(\n",
    "    len(data_extracted[data_extracted['children'] == 20]) / len(data_extracted['children'])))\n",
    "print('Cells with value \"20\" out of cells with value \"2\": {:.1%}'.format(\n",
    "    len(data_extracted[data_extracted['children'] == 20]) / len(data_extracted[data_extracted['children'] == 2])))\n",
    "print('Cells with value \"20\" out of cells with any number of children: {:.1%}'.format(\n",
    "    len(data_extracted[data_extracted['children'] == 20]) / len(data_extracted[data_extracted['children'] > 0])))\n",
    "\n",
    "# It is very small percentage of overall data, and quite small percentage of rows that contain any number of children.\n",
    "# I am going to take a look at that rows to see if there is something else that stands out:\n",
    "\n",
    "data_extracted[data_extracted['children'] == 20].head()"
   ]
  },
  {
   "cell_type": "markdown",
   "metadata": {},
   "source": [
    "**Notes**:\n",
    "\n",
    "One of these rows has no age, but age anyway is not relevant to questions. And all the other data I need looks fine there and there is no reason to drop it. \n",
    "\n",
    "I would prefer to split those 'rogue' values by categories. To define what categories I need, first I am going to check, how much in percent are there people with every amount of kids out of total. I can see that there are relatively little number of those with 4 or 5 kids, but how little?"
   ]
  },
  {
   "cell_type": "code",
   "execution_count": 17,
   "metadata": {},
   "outputs": [
    {
     "data": {
      "text/plain": [
       " 0     65.430331\n",
       " 1     22.526135\n",
       " 2      9.656786\n",
       " 3      1.565707\n",
       " 20     0.362786\n",
       "-1      0.224354\n",
       " 4      0.190940\n",
       " 5      0.042961\n",
       "Name: children, dtype: float64"
      ]
     },
     "execution_count": 17,
     "metadata": {},
     "output_type": "execute_result"
    }
   ],
   "source": [
    "(data_extracted['children'].value_counts() / len(data_extracted) * 100).sort_values(ascending = False)"
   ]
  },
  {
   "cell_type": "markdown",
   "metadata": {},
   "source": [
    "**Notes**:\n",
    "\n",
    "So I have total 1.57% of people with 3 kids, 0.19% of people with 4 kids and 0.04% of people with 5 kids, which make total of 1.8%. It is still too small a percentage for separate category, so I will unite them into one category with those who have 2 children. My main categories will be:\n",
    "* No children (65.43%)\n",
    "* 1 child (22.53%)\n",
    "* 2 children or more (11.46%)\n",
    "\n",
    "Based on my previous assumption, '-1' can be fitted into 'No children' category, but I don't know what number of children is '20' referring to: one or more. So I will replace it with average amount of children (not including 0 and '-1') by family status. "
   ]
  },
  {
   "cell_type": "code",
   "execution_count": 19,
   "metadata": {},
   "outputs": [
    {
     "name": "stdout",
     "output_type": "stream",
     "text": [
      "family_status\n",
      "civil partnership    1\n",
      "divorced             1\n",
      "married              1\n",
      "unmarried            1\n",
      "widow / widower      1\n",
      "Name: children, dtype: int32\n"
     ]
    }
   ],
   "source": [
    "# check average amount of children by family status (only in rows with children), and by the way converting it to whole number\n",
    "children_average = data_extracted[data_extracted['children'] > 0].groupby('family_status')['children'].median().astype('int')\n",
    "print(children_average)\n",
    "\n",
    "# seems like median is 1 for all categories, so I safely proceed:"
   ]
  },
  {
   "cell_type": "code",
   "execution_count": 20,
   "metadata": {
    "scrolled": true
   },
   "outputs": [
    {
     "name": "stdout",
     "output_type": "stream",
     "text": [
      "No children           13754\n",
      "1 child                4795\n",
      "2 children or more     2400\n",
      "Name: has_children, dtype: int64\n"
     ]
    }
   ],
   "source": [
    "# seems like median is 1 for all categories, so I safely proceed.\n",
    "# Nice quick function to sort trough those 'children' values:\n",
    "def has_children(value):\n",
    "    if value <= 0:\n",
    "        return 'No children'\n",
    "    elif value < 2 or value == 20:\n",
    "        return '1 child'\n",
    "    else:\n",
    "        return '2 children or more'\n",
    "    \n",
    "# create new 'has_children' column using the function:\n",
    "data_extracted['has_children'] = data_extracted['children'].copy().apply(has_children)\n",
    "\n",
    "# look at the result:\n",
    "print(data_extracted['has_children'].value_counts())"
   ]
  },
  {
   "cell_type": "code",
   "execution_count": 21,
   "metadata": {},
   "outputs": [
    {
     "name": "stdout",
     "output_type": "stream",
     "text": [
      "0    19215\n",
      "1     1734\n",
      "Name: debt, dtype: int64\n"
     ]
    }
   ],
   "source": [
    "# take a look at debt column:\n",
    "print(data_extracted['debt'].value_counts())\n",
    "\n",
    "# looks great."
   ]
  },
  {
   "cell_type": "code",
   "execution_count": 22,
   "metadata": {},
   "outputs": [
    {
     "name": "stdout",
     "output_type": "stream",
     "text": [
      "Ten lowest values\n",
      "--------------------\n",
      "14585    3306\n",
      "13006    3392\n",
      "16174    3418\n",
      "1598     3471\n",
      "14276    3503\n",
      "10881    3595\n",
      "18509    3815\n",
      "9070     3913\n",
      "10068    4036\n",
      "12052    4049\n",
      "Name: total_income, dtype: int32\n",
      "\n",
      "Ten highest values\n",
      "--------------------\n",
      "12412    362496\n",
      "19606    352136\n",
      "9169     276204\n",
      "20809    274402\n",
      "17178    273809\n",
      "17503    255618\n",
      "18368    248184\n",
      "18353    228469\n",
      "15268    216039\n",
      "11071    205804\n",
      "Name: total_income, dtype: int32\n",
      "\n",
      "Total income mean: 26539.67817079574\n",
      "Total income median: 22880.0\n"
     ]
    }
   ],
   "source": [
    "# Now I have a look at income values before I start to categorize them.\n",
    "print('Ten lowest values')\n",
    "print('--------------------')\n",
    "print(data_extracted['total_income'].sort_values().head(10))\n",
    "print()\n",
    "print('Ten highest values')\n",
    "print('--------------------')\n",
    "print(data_extracted['total_income'].sort_values(ascending = False).head(10))\n",
    "print()\n",
    "print('Total income mean:',data_extracted['total_income'].mean())\n",
    "print('Total income median:',data_extracted['total_income'].median())"
   ]
  },
  {
   "cell_type": "markdown",
   "metadata": {},
   "source": [
    "**Notes**:\n",
    "\n",
    "I don't see any weird values like negatives, and also I don't see people with zero income, which is good. I don't have to process this column before creating income categories based on it. \n",
    "\n",
    "Median value is lower than mean, and I see some extremely high difference in income in top 10 values. So I am going to create 4 categories of income based on median value: low, average, above average, high. \n",
    "\n",
    "I already know what median is. low and average would be below median, and above average and high would be above.\n",
    "\n",
    "Now I will find out median of the values lower than overall median, and median of values higher than overall median."
   ]
  },
  {
   "cell_type": "code",
   "execution_count": 23,
   "metadata": {},
   "outputs": [
    {
     "name": "stdout",
     "output_type": "stream",
     "text": [
      "average income          5238\n",
      "above average income    5238\n",
      "low income              5238\n",
      "high income             5235\n",
      "Name: income_level, dtype: int64\n"
     ]
    }
   ],
   "source": [
    "total_median = data_extracted['total_income'].median()\n",
    "low_values_median = data_extracted[data_extracted['total_income'] <= total_median]['total_income'].median()\n",
    "high_values_median = data_extracted[data_extracted['total_income'] > total_median]['total_income'].median()\n",
    "\n",
    "# build sorting function based on calculated values:\n",
    "def income_level(value):\n",
    "    result = ''\n",
    "    if value <= low_values_median:\n",
    "        result = 'low income'\n",
    "    elif value <= total_median:\n",
    "        result = 'average income'\n",
    "    elif value <= high_values_median:\n",
    "        result = 'above average income'\n",
    "    else:\n",
    "        result = 'high income'\n",
    "    return result\n",
    "\n",
    "# creating new column, categorizing rows by income levels:\n",
    "data_extracted['income_level'] = data_extracted['total_income'].apply(income_level)\n",
    "\n",
    "#take a look at a new column:\n",
    "print(data_extracted['income_level'].value_counts())"
   ]
  },
  {
   "cell_type": "markdown",
   "metadata": {},
   "source": [
    "### Conclusion"
   ]
  },
  {
   "cell_type": "markdown",
   "metadata": {},
   "source": [
    "To check relation between income and having children, total income, purpose and family status I need to categorize my table by all of those 5 categories. Family status and debt columns were already in perfect condition as it is. Purpose column was processed while looking for duplicates and also was sorted by categories. So I had to deal only with children and total_income columns.\n",
    "\n",
    "Because number of children doesn't have to do anyting with the initial question, only the fact of having (or not having) kids, I sorted this column into 2 main categories: those who have kids and those who don't.\n",
    "\n",
    "Income column needed different approach, because I needed a way to assess income levels. I decided to build my categories based on median values because this way I would get more accurate data. So I splitted income column into 4 main categories using median, and median values of values below and above the main median. "
   ]
  },
  {
   "cell_type": "markdown",
   "metadata": {},
   "source": [
    "## Answer these questions"
   ]
  },
  {
   "cell_type": "markdown",
   "metadata": {},
   "source": [
    "- Is there a relation between having kids and repaying a loan on time?"
   ]
  },
  {
   "cell_type": "code",
   "execution_count": 24,
   "metadata": {},
   "outputs": [
    {
     "data": {
      "text/html": [
       "<div>\n",
       "<style scoped>\n",
       "    .dataframe tbody tr th:only-of-type {\n",
       "        vertical-align: middle;\n",
       "    }\n",
       "\n",
       "    .dataframe tbody tr th {\n",
       "        vertical-align: top;\n",
       "    }\n",
       "\n",
       "    .dataframe thead tr th {\n",
       "        text-align: left;\n",
       "    }\n",
       "\n",
       "    .dataframe thead tr:last-of-type th {\n",
       "        text-align: right;\n",
       "    }\n",
       "</style>\n",
       "<table border=\"1\" class=\"dataframe\">\n",
       "  <thead>\n",
       "    <tr>\n",
       "      <th></th>\n",
       "      <th>sum</th>\n",
       "      <th>count</th>\n",
       "      <th>ratio in %</th>\n",
       "    </tr>\n",
       "    <tr>\n",
       "      <th></th>\n",
       "      <th>debt</th>\n",
       "      <th>debt</th>\n",
       "      <th></th>\n",
       "    </tr>\n",
       "    <tr>\n",
       "      <th>has_children</th>\n",
       "      <th></th>\n",
       "      <th></th>\n",
       "      <th></th>\n",
       "    </tr>\n",
       "  </thead>\n",
       "  <tbody>\n",
       "    <tr>\n",
       "      <th>1 child</th>\n",
       "      <td>450</td>\n",
       "      <td>4795</td>\n",
       "      <td>9.384776</td>\n",
       "    </tr>\n",
       "    <tr>\n",
       "      <th>2 children or more</th>\n",
       "      <td>225</td>\n",
       "      <td>2400</td>\n",
       "      <td>9.375000</td>\n",
       "    </tr>\n",
       "    <tr>\n",
       "      <th>No children</th>\n",
       "      <td>1059</td>\n",
       "      <td>13754</td>\n",
       "      <td>7.699578</td>\n",
       "    </tr>\n",
       "  </tbody>\n",
       "</table>\n",
       "</div>"
      ],
      "text/plain": [
       "                     sum  count ratio in %\n",
       "                    debt   debt           \n",
       "has_children                              \n",
       "1 child              450   4795   9.384776\n",
       "2 children or more   225   2400   9.375000\n",
       "No children         1059  13754   7.699578"
      ]
     },
     "execution_count": 24,
     "metadata": {},
     "output_type": "execute_result"
    }
   ],
   "source": [
    "# create a pivot table which summarizes, how many people with and without children did or did not default a loan\n",
    "# sum counts only '1' values, which correspond only for those in category who defaulted a loan,\n",
    "# while count corresponds to all the values in the category\n",
    "pivot_children = data_extracted.pivot_table(\n",
    "    index = 'has_children',\n",
    "    values = 'debt',\n",
    "    aggfunc = [sum,'count']\n",
    ")\n",
    "\n",
    "# add a column which represents ratio of those who defaulted a loan in overall category \n",
    "pivot_children['ratio in %'] = pivot_children['sum']/pivot_children['count']*100\n",
    "\n",
    "pivot_children"
   ]
  },
  {
   "cell_type": "markdown",
   "metadata": {},
   "source": [
    "### Conclusion"
   ]
  },
  {
   "cell_type": "markdown",
   "metadata": {},
   "source": [
    "People who have kids are more likely to default a loan, which seems reasonable: kids are major expence factor, especially in everything connected to unexpected expences. \n",
    "\n",
    "Also no matter how many children does the person have, his chance to default a loan stays the same."
   ]
  },
  {
   "cell_type": "markdown",
   "metadata": {},
   "source": [
    "- Is there a relation between marital status and repaying a loan on time?"
   ]
  },
  {
   "cell_type": "code",
   "execution_count": 25,
   "metadata": {},
   "outputs": [
    {
     "data": {
      "text/html": [
       "<div>\n",
       "<style scoped>\n",
       "    .dataframe tbody tr th:only-of-type {\n",
       "        vertical-align: middle;\n",
       "    }\n",
       "\n",
       "    .dataframe tbody tr th {\n",
       "        vertical-align: top;\n",
       "    }\n",
       "\n",
       "    .dataframe thead tr th {\n",
       "        text-align: left;\n",
       "    }\n",
       "\n",
       "    .dataframe thead tr:last-of-type th {\n",
       "        text-align: right;\n",
       "    }\n",
       "</style>\n",
       "<table border=\"1\" class=\"dataframe\">\n",
       "  <thead>\n",
       "    <tr>\n",
       "      <th></th>\n",
       "      <th>sum</th>\n",
       "      <th>count</th>\n",
       "      <th>ratio in %</th>\n",
       "    </tr>\n",
       "    <tr>\n",
       "      <th></th>\n",
       "      <th>debt</th>\n",
       "      <th>debt</th>\n",
       "      <th></th>\n",
       "    </tr>\n",
       "    <tr>\n",
       "      <th>family_status</th>\n",
       "      <th></th>\n",
       "      <th></th>\n",
       "      <th></th>\n",
       "    </tr>\n",
       "  </thead>\n",
       "  <tbody>\n",
       "    <tr>\n",
       "      <th>unmarried</th>\n",
       "      <td>273</td>\n",
       "      <td>2770</td>\n",
       "      <td>9.855596</td>\n",
       "    </tr>\n",
       "    <tr>\n",
       "      <th>civil partnership</th>\n",
       "      <td>387</td>\n",
       "      <td>4100</td>\n",
       "      <td>9.439024</td>\n",
       "    </tr>\n",
       "    <tr>\n",
       "      <th>married</th>\n",
       "      <td>926</td>\n",
       "      <td>11945</td>\n",
       "      <td>7.752198</td>\n",
       "    </tr>\n",
       "    <tr>\n",
       "      <th>divorced</th>\n",
       "      <td>85</td>\n",
       "      <td>1192</td>\n",
       "      <td>7.130872</td>\n",
       "    </tr>\n",
       "    <tr>\n",
       "      <th>widow / widower</th>\n",
       "      <td>63</td>\n",
       "      <td>942</td>\n",
       "      <td>6.687898</td>\n",
       "    </tr>\n",
       "  </tbody>\n",
       "</table>\n",
       "</div>"
      ],
      "text/plain": [
       "                   sum  count ratio in %\n",
       "                  debt   debt           \n",
       "family_status                           \n",
       "unmarried          273   2770   9.855596\n",
       "civil partnership  387   4100   9.439024\n",
       "married            926  11945   7.752198\n",
       "divorced            85   1192   7.130872\n",
       "widow / widower     63    942   6.687898"
      ]
     },
     "execution_count": 25,
     "metadata": {},
     "output_type": "execute_result"
    }
   ],
   "source": [
    "# create pivot table, exactly like in previous step, but with \"family_status\" as index.\n",
    "pivot_family = data_extracted.pivot_table(\n",
    "    index = 'family_status',\n",
    "    values = 'debt',\n",
    "    aggfunc = ['sum','count']\n",
    ")\n",
    "\n",
    "# add a column which represents ratio of those who defaulted a loan in overall category \n",
    "pivot_family['ratio in %'] = pivot_family['sum']/pivot_family['count']*100\n",
    "\n",
    "pivot_family.sort_values(by = 'ratio in %',ascending = False)"
   ]
  },
  {
   "cell_type": "markdown",
   "metadata": {},
   "source": [
    "### Conclusion"
   ]
  },
  {
   "cell_type": "markdown",
   "metadata": {},
   "source": [
    "We can see that unmarried people and people in civil partnership are most likely to default a loan, as opposed to widowers who are least likely to do so. It looks like something related to overall relationship status phases in life: first a person is single, then starts a relationship and moves in, then married, then - if not lucky - either gets divorced or widowed, and with every step a pereson gets least likely to default a loan. Maybe because an average person gets more financially stable as he/she proceeds in life."
   ]
  },
  {
   "cell_type": "markdown",
   "metadata": {},
   "source": [
    "- Is there a relation between income level and repaying a loan on time?"
   ]
  },
  {
   "cell_type": "code",
   "execution_count": 26,
   "metadata": {},
   "outputs": [
    {
     "data": {
      "text/html": [
       "<div>\n",
       "<style scoped>\n",
       "    .dataframe tbody tr th:only-of-type {\n",
       "        vertical-align: middle;\n",
       "    }\n",
       "\n",
       "    .dataframe tbody tr th {\n",
       "        vertical-align: top;\n",
       "    }\n",
       "\n",
       "    .dataframe thead tr th {\n",
       "        text-align: left;\n",
       "    }\n",
       "\n",
       "    .dataframe thead tr:last-of-type th {\n",
       "        text-align: right;\n",
       "    }\n",
       "</style>\n",
       "<table border=\"1\" class=\"dataframe\">\n",
       "  <thead>\n",
       "    <tr>\n",
       "      <th></th>\n",
       "      <th>sum</th>\n",
       "      <th>count</th>\n",
       "      <th>ratio in %</th>\n",
       "    </tr>\n",
       "    <tr>\n",
       "      <th></th>\n",
       "      <th>debt</th>\n",
       "      <th>debt</th>\n",
       "      <th></th>\n",
       "    </tr>\n",
       "    <tr>\n",
       "      <th>income_level</th>\n",
       "      <th></th>\n",
       "      <th></th>\n",
       "      <th></th>\n",
       "    </tr>\n",
       "  </thead>\n",
       "  <tbody>\n",
       "    <tr>\n",
       "      <th>average income</th>\n",
       "      <td>499</td>\n",
       "      <td>5238</td>\n",
       "      <td>9.526537</td>\n",
       "    </tr>\n",
       "    <tr>\n",
       "      <th>above average income</th>\n",
       "      <td>452</td>\n",
       "      <td>5238</td>\n",
       "      <td>8.629248</td>\n",
       "    </tr>\n",
       "    <tr>\n",
       "      <th>low income</th>\n",
       "      <td>410</td>\n",
       "      <td>5238</td>\n",
       "      <td>7.827415</td>\n",
       "    </tr>\n",
       "    <tr>\n",
       "      <th>high income</th>\n",
       "      <td>373</td>\n",
       "      <td>5235</td>\n",
       "      <td>7.125119</td>\n",
       "    </tr>\n",
       "  </tbody>\n",
       "</table>\n",
       "</div>"
      ],
      "text/plain": [
       "                      sum count ratio in %\n",
       "                     debt  debt           \n",
       "income_level                              \n",
       "average income        499  5238   9.526537\n",
       "above average income  452  5238   8.629248\n",
       "low income            410  5238   7.827415\n",
       "high income           373  5235   7.125119"
      ]
     },
     "execution_count": 26,
     "metadata": {},
     "output_type": "execute_result"
    }
   ],
   "source": [
    "# create pivot table, exactly like in previous steps, but with \"income_level\" as index.\n",
    "pivot_income = data_extracted.pivot_table(\n",
    "    index = 'income_level',\n",
    "    values = 'debt',\n",
    "    aggfunc = ['sum','count']\n",
    ")\n",
    "\n",
    "# add a column which represents ratio of those who defaulted a loan in overall category \n",
    "pivot_income['ratio in %'] = pivot_income['sum']/pivot_income['count']*100\n",
    "\n",
    "pivot_income.sort_values(by = 'ratio in %',ascending = False)"
   ]
  },
  {
   "cell_type": "markdown",
   "metadata": {},
   "source": [
    "### Conclusion"
   ]
  },
  {
   "cell_type": "markdown",
   "metadata": {},
   "source": [
    "People with average and above average income are more likely to default a loan, than people who have low or high income."
   ]
  },
  {
   "cell_type": "markdown",
   "metadata": {},
   "source": [
    "- How do different loan purposes affect on-time repayment of the loan?"
   ]
  },
  {
   "cell_type": "code",
   "execution_count": 27,
   "metadata": {},
   "outputs": [
    {
     "data": {
      "text/html": [
       "<div>\n",
       "<style scoped>\n",
       "    .dataframe tbody tr th:only-of-type {\n",
       "        vertical-align: middle;\n",
       "    }\n",
       "\n",
       "    .dataframe tbody tr th {\n",
       "        vertical-align: top;\n",
       "    }\n",
       "\n",
       "    .dataframe thead tr th {\n",
       "        text-align: left;\n",
       "    }\n",
       "\n",
       "    .dataframe thead tr:last-of-type th {\n",
       "        text-align: right;\n",
       "    }\n",
       "</style>\n",
       "<table border=\"1\" class=\"dataframe\">\n",
       "  <thead>\n",
       "    <tr>\n",
       "      <th></th>\n",
       "      <th>sum</th>\n",
       "      <th>count</th>\n",
       "      <th>ratio in %</th>\n",
       "    </tr>\n",
       "    <tr>\n",
       "      <th></th>\n",
       "      <th>debt</th>\n",
       "      <th>debt</th>\n",
       "      <th></th>\n",
       "    </tr>\n",
       "    <tr>\n",
       "      <th>purpose</th>\n",
       "      <th></th>\n",
       "      <th></th>\n",
       "      <th></th>\n",
       "    </tr>\n",
       "  </thead>\n",
       "  <tbody>\n",
       "    <tr>\n",
       "      <th>Vehicle</th>\n",
       "      <td>401</td>\n",
       "      <td>4247</td>\n",
       "      <td>9.441959</td>\n",
       "    </tr>\n",
       "    <tr>\n",
       "      <th>Education</th>\n",
       "      <td>370</td>\n",
       "      <td>3937</td>\n",
       "      <td>9.398019</td>\n",
       "    </tr>\n",
       "    <tr>\n",
       "      <th>Wedding</th>\n",
       "      <td>185</td>\n",
       "      <td>2289</td>\n",
       "      <td>8.082132</td>\n",
       "    </tr>\n",
       "    <tr>\n",
       "      <th>Real estate</th>\n",
       "      <td>778</td>\n",
       "      <td>10476</td>\n",
       "      <td>7.426499</td>\n",
       "    </tr>\n",
       "  </tbody>\n",
       "</table>\n",
       "</div>"
      ],
      "text/plain": [
       "             sum  count ratio in %\n",
       "            debt   debt           \n",
       "purpose                           \n",
       "Vehicle      401   4247   9.441959\n",
       "Education    370   3937   9.398019\n",
       "Wedding      185   2289   8.082132\n",
       "Real estate  778  10476   7.426499"
      ]
     },
     "execution_count": 27,
     "metadata": {},
     "output_type": "execute_result"
    }
   ],
   "source": [
    "# create pivot table, exactly like in previous steps, but with \"purpose\" as index.\n",
    "pivot_purpose = data_extracted.pivot_table(\n",
    "    index = 'purpose',\n",
    "    values = 'debt',\n",
    "    aggfunc = ['sum','count']\n",
    ")\n",
    "\n",
    "# add a column which represents ratio of those who defaulted a loan in overall category \n",
    "pivot_purpose['ratio in %'] = pivot_purpose['sum']/pivot_purpose['count']*100\n",
    "\n",
    "pivot_purpose.sort_values(by = 'ratio in %',ascending = False)"
   ]
  },
  {
   "cell_type": "markdown",
   "metadata": {},
   "source": [
    "# Conclusion"
   ]
  },
  {
   "cell_type": "markdown",
   "metadata": {},
   "source": [
    "People who want to take loan to buy a vehicle or to get an education are more likely to default it. It may be connected to job opportunities: those who don't have a vehicle or don't have good profession have less job opportunities, ergo - they are less stable financially."
   ]
  },
  {
   "cell_type": "markdown",
   "metadata": {},
   "source": [
    "## General conclusion"
   ]
  },
  {
   "cell_type": "markdown",
   "metadata": {},
   "source": [
    "In this project I received datasheet of bank's clients and had to evaluate how their family status, number of children, income level and purpose of taking a loan can affect their ability to repay it on time.\n",
    "\n",
    "I had to process data, dispose of duplicates and somehow deal with irrational values without losing any meaningful data in the process. To do so, I had to decide which columns are most relevant to my research and which are not. In those relevant to it I filled irrational values based on median value by some category, which seemed most rational to me.\n",
    "\n",
    "Hunting for duplicates in freely worded field 'purpose' was most challenging. First, I had to decide on categories. As I know from real life experience, there is major difference between purchasing commercial and private property, and at first I thought to divide \"real estate\" category into two: \"commercial real estate\" and \"private real estate\". But there was too many values related to real estate where I didn't have any way to know if it was commercial or private, so I had to drop this idea and to leave \"real estate\" as one major category.\n",
    "\n",
    "Categorizing was also quite interesting, especially to find categories for \"total_income\". I considered few different approaches, one of them was to categorize income by procentiles (procentile ten, procentile twenty etc.), but then I decided to concentrate on four main categories and not to complicate things too much. \n",
    "\n",
    "By the end of my study I could separate categories of people who are more and less likely to default a loan, as following:"
   ]
  },
  {
   "cell_type": "markdown",
   "metadata": {},
   "source": [
    "Categories of people who are less likely to default a loan:\n",
    "* Widowed/Divorced\n",
    "* With no children\n",
    "* Either have low or high income\n",
    "* Need a loan to buy a property\n",
    "\n",
    "Categories of people who are at risk of defaulting a loan:\n",
    "* Single\n",
    "* Parents to children\n",
    "* Have average or above average income\n",
    "* Need a loan to get a car or an education"
   ]
  },
  {
   "cell_type": "markdown",
   "metadata": {},
   "source": [
    "Most results were expected and rational, but they also contained one unexpected which I couldn't find explanation to: surprisingly, people with average and above average income are more likely to default a loan than people whose incomes are low or high. "
   ]
  }
 ],
 "metadata": {
  "ExecuteTimeLog": [
   {
    "duration": 384,
    "start_time": "2021-10-11T05:55:49.589Z"
   },
   {
    "duration": 1516,
    "start_time": "2021-10-11T05:57:16.470Z"
   },
   {
    "duration": 299,
    "start_time": "2021-10-11T05:57:17.989Z"
   },
   {
    "duration": 11,
    "start_time": "2021-10-11T05:59:35.688Z"
   },
   {
    "duration": 10,
    "start_time": "2021-10-11T05:59:38.977Z"
   },
   {
    "duration": 12,
    "start_time": "2021-10-11T06:00:01.827Z"
   },
   {
    "duration": 4,
    "start_time": "2021-10-11T07:10:30.119Z"
   },
   {
    "duration": 339,
    "start_time": "2021-10-11T07:10:32.246Z"
   },
   {
    "duration": 11,
    "start_time": "2021-10-11T07:10:37.032Z"
   },
   {
    "duration": 10,
    "start_time": "2021-10-11T07:10:39.090Z"
   },
   {
    "duration": 26,
    "start_time": "2021-10-11T07:10:40.780Z"
   },
   {
    "duration": 11,
    "start_time": "2021-10-11T07:10:42.515Z"
   },
   {
    "duration": 22,
    "start_time": "2021-10-11T07:10:45.240Z"
   },
   {
    "duration": 30,
    "start_time": "2021-10-11T07:10:55.867Z"
   },
   {
    "duration": 17,
    "start_time": "2021-10-11T07:11:03.093Z"
   },
   {
    "duration": 91,
    "start_time": "2021-10-11T07:11:11.531Z"
   },
   {
    "duration": 3918,
    "start_time": "2021-10-11T07:11:31.920Z"
   },
   {
    "duration": 1000,
    "start_time": "2021-10-11T07:11:41.358Z"
   },
   {
    "duration": 17,
    "start_time": "2021-10-11T07:11:42.361Z"
   },
   {
    "duration": 1569,
    "start_time": "2021-10-11T07:11:59.934Z"
   },
   {
    "duration": 320,
    "start_time": "2021-10-11T07:12:01.506Z"
   },
   {
    "duration": 11,
    "start_time": "2021-10-11T07:12:01.828Z"
   },
   {
    "duration": 27,
    "start_time": "2021-10-11T07:12:01.841Z"
   },
   {
    "duration": 37,
    "start_time": "2021-10-11T07:12:01.870Z"
   },
   {
    "duration": 15,
    "start_time": "2021-10-11T07:12:01.909Z"
   },
   {
    "duration": 17,
    "start_time": "2021-10-11T07:12:01.926Z"
   },
   {
    "duration": 47,
    "start_time": "2021-10-11T07:12:01.947Z"
   },
   {
    "duration": 17,
    "start_time": "2021-10-11T07:12:01.997Z"
   },
   {
    "duration": 82,
    "start_time": "2021-10-11T07:12:02.017Z"
   },
   {
    "duration": 3884,
    "start_time": "2021-10-11T07:12:02.101Z"
   },
   {
    "duration": 995,
    "start_time": "2021-10-11T07:12:05.987Z"
   },
   {
    "duration": 17,
    "start_time": "2021-10-11T07:12:06.984Z"
   },
   {
    "duration": 25,
    "start_time": "2021-10-11T07:12:07.004Z"
   },
   {
    "duration": 53,
    "start_time": "2021-10-11T07:12:07.031Z"
   },
   {
    "duration": 29,
    "start_time": "2021-10-11T07:12:07.087Z"
   },
   {
    "duration": 47,
    "start_time": "2021-10-11T07:12:07.118Z"
   },
   {
    "duration": 17,
    "start_time": "2021-10-11T07:12:07.167Z"
   },
   {
    "duration": 23,
    "start_time": "2021-10-11T07:12:07.186Z"
   },
   {
    "duration": 61,
    "start_time": "2021-10-11T07:12:07.211Z"
   },
   {
    "duration": 44,
    "start_time": "2021-10-11T07:12:07.275Z"
   },
   {
    "duration": 70,
    "start_time": "2021-10-11T07:12:07.322Z"
   },
   {
    "duration": 64,
    "start_time": "2021-10-11T07:12:07.398Z"
   },
   {
    "duration": 42,
    "start_time": "2021-10-11T07:12:07.466Z"
   },
   {
    "duration": 499,
    "start_time": "2021-10-11T07:22:23.530Z"
   },
   {
    "duration": 9,
    "start_time": "2021-10-11T07:22:56.318Z"
   },
   {
    "duration": 11,
    "start_time": "2021-10-11T07:23:41.635Z"
   },
   {
    "duration": 9,
    "start_time": "2021-10-11T07:23:49.949Z"
   },
   {
    "duration": 14,
    "start_time": "2021-10-11T07:36:09.052Z"
   },
   {
    "duration": 384,
    "start_time": "2021-10-11T07:37:02.536Z"
   },
   {
    "duration": 29,
    "start_time": "2021-10-11T07:37:20.240Z"
   },
   {
    "duration": 345,
    "start_time": "2021-10-11T07:37:38.586Z"
   },
   {
    "duration": 17,
    "start_time": "2021-10-11T07:37:44.497Z"
   },
   {
    "duration": 386,
    "start_time": "2021-10-11T07:38:41.747Z"
   },
   {
    "duration": 345,
    "start_time": "2021-10-11T07:39:03.278Z"
   },
   {
    "duration": 432,
    "start_time": "2021-10-11T07:40:18.903Z"
   },
   {
    "duration": 13,
    "start_time": "2021-10-11T07:40:33.231Z"
   },
   {
    "duration": 13,
    "start_time": "2021-10-11T07:41:29.516Z"
   },
   {
    "duration": 120,
    "start_time": "2021-10-11T07:42:50.091Z"
   },
   {
    "duration": 110,
    "start_time": "2021-10-11T07:43:02.782Z"
   },
   {
    "duration": 105,
    "start_time": "2021-10-11T07:43:08.350Z"
   },
   {
    "duration": 13,
    "start_time": "2021-10-11T07:44:02.292Z"
   },
   {
    "duration": 14,
    "start_time": "2021-10-11T07:44:49.473Z"
   },
   {
    "duration": 13,
    "start_time": "2021-10-11T07:45:13.739Z"
   },
   {
    "duration": 363,
    "start_time": "2021-10-11T07:45:35.171Z"
   },
   {
    "duration": 355,
    "start_time": "2021-10-11T07:46:33.283Z"
   },
   {
    "duration": 21,
    "start_time": "2021-10-11T07:46:41.718Z"
   },
   {
    "duration": 14,
    "start_time": "2021-10-11T07:47:19.517Z"
   },
   {
    "duration": 14,
    "start_time": "2021-10-11T07:47:44.816Z"
   },
   {
    "duration": 20,
    "start_time": "2021-10-11T07:48:06.831Z"
   },
   {
    "duration": 468,
    "start_time": "2021-10-11T07:48:15.042Z"
   },
   {
    "duration": 20,
    "start_time": "2021-10-11T07:49:27.213Z"
   },
   {
    "duration": 20,
    "start_time": "2021-10-11T07:49:58.960Z"
   },
   {
    "duration": 20,
    "start_time": "2021-10-11T07:50:09.501Z"
   },
   {
    "duration": 27,
    "start_time": "2021-10-11T07:52:24.330Z"
   },
   {
    "duration": 28,
    "start_time": "2021-10-11T07:52:55.293Z"
   },
   {
    "duration": 28,
    "start_time": "2021-10-11T07:54:11.698Z"
   },
   {
    "duration": 8984,
    "start_time": "2021-10-11T08:08:27.811Z"
   },
   {
    "duration": 10,
    "start_time": "2021-10-11T08:09:07.671Z"
   },
   {
    "duration": 12,
    "start_time": "2021-10-11T08:10:09.829Z"
   },
   {
    "duration": 358,
    "start_time": "2021-10-11T08:10:32.865Z"
   },
   {
    "duration": 12,
    "start_time": "2021-10-11T08:10:50.054Z"
   },
   {
    "duration": 10594,
    "start_time": "2021-10-11T08:15:51.517Z"
   },
   {
    "duration": 8614,
    "start_time": "2021-10-11T08:16:13.949Z"
   },
   {
    "duration": 9561,
    "start_time": "2021-10-11T08:16:35.082Z"
   },
   {
    "duration": 21,
    "start_time": "2021-10-11T08:16:57.996Z"
   },
   {
    "duration": 428,
    "start_time": "2021-10-11T08:17:37.136Z"
   },
   {
    "duration": 13,
    "start_time": "2021-10-11T08:17:47.885Z"
   },
   {
    "duration": 1565,
    "start_time": "2021-10-11T08:18:24.920Z"
   },
   {
    "duration": 898,
    "start_time": "2021-10-11T08:18:26.487Z"
   },
   {
    "duration": 11,
    "start_time": "2021-10-11T08:18:27.388Z"
   },
   {
    "duration": 13,
    "start_time": "2021-10-11T08:18:27.402Z"
   },
   {
    "duration": 55,
    "start_time": "2021-10-11T08:18:27.418Z"
   },
   {
    "duration": 12,
    "start_time": "2021-10-11T08:18:27.476Z"
   },
   {
    "duration": 37,
    "start_time": "2021-10-11T08:18:27.491Z"
   },
   {
    "duration": 41,
    "start_time": "2021-10-11T08:18:27.534Z"
   },
   {
    "duration": 17,
    "start_time": "2021-10-11T08:18:27.579Z"
   },
   {
    "duration": 94,
    "start_time": "2021-10-11T08:18:27.599Z"
   },
   {
    "duration": 3766,
    "start_time": "2021-10-11T08:18:27.696Z"
   },
   {
    "duration": 1051,
    "start_time": "2021-10-11T08:18:31.464Z"
   },
   {
    "duration": 18,
    "start_time": "2021-10-11T08:18:32.518Z"
   },
   {
    "duration": 42,
    "start_time": "2021-10-11T08:18:32.539Z"
   },
   {
    "duration": 30,
    "start_time": "2021-10-11T08:18:32.584Z"
   },
   {
    "duration": 63,
    "start_time": "2021-10-11T08:18:32.617Z"
   },
   {
    "duration": 11,
    "start_time": "2021-10-11T08:18:32.682Z"
   },
   {
    "duration": 13,
    "start_time": "2021-10-11T08:18:32.695Z"
   },
   {
    "duration": 49,
    "start_time": "2021-10-11T08:18:32.711Z"
   },
   {
    "duration": 14,
    "start_time": "2021-10-11T08:18:32.763Z"
   },
   {
    "duration": 30,
    "start_time": "2021-10-11T08:18:32.779Z"
   },
   {
    "duration": 63,
    "start_time": "2021-10-11T08:18:32.811Z"
   },
   {
    "duration": 45,
    "start_time": "2021-10-11T08:18:32.878Z"
   },
   {
    "duration": 63,
    "start_time": "2021-10-11T08:18:32.926Z"
   },
   {
    "duration": 43,
    "start_time": "2021-10-11T08:18:32.992Z"
   },
   {
    "duration": 43,
    "start_time": "2021-10-11T08:18:33.059Z"
   },
   {
    "duration": 12,
    "start_time": "2021-10-11T08:19:37.158Z"
   },
   {
    "duration": 12,
    "start_time": "2021-10-11T08:19:50.211Z"
   },
   {
    "duration": 30,
    "start_time": "2021-10-11T08:23:13.395Z"
   },
   {
    "duration": 1535,
    "start_time": "2021-10-11T08:24:15.462Z"
   },
   {
    "duration": 307,
    "start_time": "2021-10-11T08:24:17.000Z"
   },
   {
    "duration": 10,
    "start_time": "2021-10-11T08:24:17.310Z"
   },
   {
    "duration": 21,
    "start_time": "2021-10-11T08:24:17.322Z"
   },
   {
    "duration": 34,
    "start_time": "2021-10-11T08:24:17.345Z"
   },
   {
    "duration": 11,
    "start_time": "2021-10-11T08:24:17.382Z"
   },
   {
    "duration": 18,
    "start_time": "2021-10-11T08:24:17.395Z"
   },
   {
    "duration": 55,
    "start_time": "2021-10-11T08:24:17.417Z"
   },
   {
    "duration": 18,
    "start_time": "2021-10-11T08:24:17.475Z"
   },
   {
    "duration": 90,
    "start_time": "2021-10-11T08:24:17.496Z"
   },
   {
    "duration": 3773,
    "start_time": "2021-10-11T08:24:17.588Z"
   },
   {
    "duration": 994,
    "start_time": "2021-10-11T08:24:21.363Z"
   },
   {
    "duration": 17,
    "start_time": "2021-10-11T08:24:22.360Z"
   },
   {
    "duration": 29,
    "start_time": "2021-10-11T08:24:22.379Z"
   },
   {
    "duration": 56,
    "start_time": "2021-10-11T08:24:22.411Z"
   },
   {
    "duration": 29,
    "start_time": "2021-10-11T08:24:22.469Z"
   },
   {
    "duration": 9,
    "start_time": "2021-10-11T08:24:22.501Z"
   },
   {
    "duration": 63,
    "start_time": "2021-10-11T08:24:22.513Z"
   },
   {
    "duration": 17,
    "start_time": "2021-10-11T08:24:22.579Z"
   },
   {
    "duration": 7,
    "start_time": "2021-10-11T08:24:22.598Z"
   },
   {
    "duration": 59,
    "start_time": "2021-10-11T08:24:22.607Z"
   },
   {
    "duration": 46,
    "start_time": "2021-10-11T08:24:22.668Z"
   },
   {
    "duration": 66,
    "start_time": "2021-10-11T08:24:22.718Z"
   },
   {
    "duration": 42,
    "start_time": "2021-10-11T08:24:22.787Z"
   },
   {
    "duration": 73,
    "start_time": "2021-10-11T08:24:22.831Z"
   },
   {
    "duration": 58,
    "start_time": "2021-10-11T08:24:22.906Z"
   },
   {
    "duration": 19,
    "start_time": "2021-10-11T08:27:18.703Z"
   },
   {
    "duration": 1608,
    "start_time": "2021-10-11T08:29:43.179Z"
   },
   {
    "duration": 340,
    "start_time": "2021-10-11T08:29:44.790Z"
   },
   {
    "duration": 10,
    "start_time": "2021-10-11T08:29:45.133Z"
   },
   {
    "duration": 11,
    "start_time": "2021-10-11T08:29:45.158Z"
   },
   {
    "duration": 29,
    "start_time": "2021-10-11T08:29:45.172Z"
   },
   {
    "duration": 13,
    "start_time": "2021-10-11T08:29:45.204Z"
   },
   {
    "duration": 29,
    "start_time": "2021-10-11T08:29:45.219Z"
   },
   {
    "duration": 33,
    "start_time": "2021-10-11T08:29:45.252Z"
   },
   {
    "duration": 25,
    "start_time": "2021-10-11T08:29:45.288Z"
   },
   {
    "duration": 122,
    "start_time": "2021-10-11T08:29:45.316Z"
   },
   {
    "duration": 3869,
    "start_time": "2021-10-11T08:29:45.441Z"
   },
   {
    "duration": 1016,
    "start_time": "2021-10-11T08:29:49.312Z"
   },
   {
    "duration": 30,
    "start_time": "2021-10-11T08:29:50.330Z"
   },
   {
    "duration": 27,
    "start_time": "2021-10-11T08:29:50.362Z"
   },
   {
    "duration": 28,
    "start_time": "2021-10-11T08:29:50.391Z"
   },
   {
    "duration": 59,
    "start_time": "2021-10-11T08:29:50.421Z"
   },
   {
    "duration": 10,
    "start_time": "2021-10-11T08:29:50.482Z"
   },
   {
    "duration": 32,
    "start_time": "2021-10-11T08:29:50.494Z"
   },
   {
    "duration": 40,
    "start_time": "2021-10-11T08:29:50.529Z"
   },
   {
    "duration": 7,
    "start_time": "2021-10-11T08:29:50.572Z"
   },
   {
    "duration": 19,
    "start_time": "2021-10-11T08:29:50.582Z"
   },
   {
    "duration": 84,
    "start_time": "2021-10-11T08:29:50.604Z"
   },
   {
    "duration": 65,
    "start_time": "2021-10-11T08:29:50.692Z"
   },
   {
    "duration": 45,
    "start_time": "2021-10-11T08:29:50.760Z"
   },
   {
    "duration": 63,
    "start_time": "2021-10-11T08:29:50.807Z"
   },
   {
    "duration": 42,
    "start_time": "2021-10-11T08:29:50.873Z"
   },
   {
    "duration": 16,
    "start_time": "2021-10-11T08:55:43.742Z"
   },
   {
    "duration": 1497,
    "start_time": "2021-10-11T08:56:55.390Z"
   },
   {
    "duration": 442,
    "start_time": "2021-10-11T08:56:56.889Z"
   },
   {
    "duration": 25,
    "start_time": "2021-10-11T08:56:57.334Z"
   },
   {
    "duration": 20,
    "start_time": "2021-10-11T08:56:57.362Z"
   },
   {
    "duration": 36,
    "start_time": "2021-10-11T08:56:57.385Z"
   },
   {
    "duration": 11,
    "start_time": "2021-10-11T08:56:57.423Z"
   },
   {
    "duration": 28,
    "start_time": "2021-10-11T08:56:57.437Z"
   },
   {
    "duration": 38,
    "start_time": "2021-10-11T08:56:57.469Z"
   },
   {
    "duration": 20,
    "start_time": "2021-10-11T08:56:57.511Z"
   },
   {
    "duration": 100,
    "start_time": "2021-10-11T08:56:57.534Z"
   },
   {
    "duration": 3897,
    "start_time": "2021-10-11T08:56:57.637Z"
   },
   {
    "duration": 1039,
    "start_time": "2021-10-11T08:57:01.537Z"
   },
   {
    "duration": 18,
    "start_time": "2021-10-11T08:57:02.579Z"
   },
   {
    "duration": 33,
    "start_time": "2021-10-11T08:57:02.599Z"
   },
   {
    "duration": 45,
    "start_time": "2021-10-11T08:57:02.634Z"
   },
   {
    "duration": 58,
    "start_time": "2021-10-11T08:57:02.682Z"
   },
   {
    "duration": 9,
    "start_time": "2021-10-11T08:57:02.742Z"
   },
   {
    "duration": 20,
    "start_time": "2021-10-11T08:57:02.753Z"
   },
   {
    "duration": 31,
    "start_time": "2021-10-11T08:57:02.775Z"
   },
   {
    "duration": 19,
    "start_time": "2021-10-11T08:57:02.809Z"
   },
   {
    "duration": 24,
    "start_time": "2021-10-11T08:57:02.830Z"
   },
   {
    "duration": 51,
    "start_time": "2021-10-11T08:57:02.857Z"
   },
   {
    "duration": 62,
    "start_time": "2021-10-11T08:57:02.912Z"
   },
   {
    "duration": 43,
    "start_time": "2021-10-11T08:57:02.977Z"
   },
   {
    "duration": 66,
    "start_time": "2021-10-11T08:57:03.022Z"
   },
   {
    "duration": 46,
    "start_time": "2021-10-11T08:57:03.091Z"
   },
   {
    "duration": 123,
    "start_time": "2021-10-11T09:37:57.241Z"
   },
   {
    "duration": 121,
    "start_time": "2021-10-11T09:38:24.621Z"
   }
  ],
  "kernelspec": {
   "display_name": "Python 3",
   "language": "python",
   "name": "python3"
  },
  "language_info": {
   "codemirror_mode": {
    "name": "ipython",
    "version": 3
   },
   "file_extension": ".py",
   "mimetype": "text/x-python",
   "name": "python",
   "nbconvert_exporter": "python",
   "pygments_lexer": "ipython3",
   "version": "3.8.8"
  },
  "toc": {
   "base_numbering": 1,
   "nav_menu": {},
   "number_sections": true,
   "sideBar": true,
   "skip_h1_title": true,
   "title_cell": "Table of Contents",
   "title_sidebar": "Contents",
   "toc_cell": false,
   "toc_position": {},
   "toc_section_display": true,
   "toc_window_display": true
  }
 },
 "nbformat": 4,
 "nbformat_minor": 2
}
